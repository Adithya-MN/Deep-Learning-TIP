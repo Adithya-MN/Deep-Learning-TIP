{
 "cells": [
  {
   "cell_type": "markdown",
   "metadata": {},
   "source": [
    "# For Loops\n",
    "\n",
    "Loops are used when we want to repeat a certain action a number of times. For example when we want to print all the items of a list or an array. For loops are loops which check for certain conditions and then repeatedly execute a block of code as long as those conditions are met\n",
    "\n",
    "Python has three main ways to use a for loop. First we make a python list, which is just a sequence of elements"
   ]
  },
  {
   "cell_type": "code",
   "execution_count": 1,
   "metadata": {},
   "outputs": [],
   "source": [
    "l = [1,2,3,4,5,6,7]"
   ]
  },
  {
   "cell_type": "markdown",
   "metadata": {},
   "source": [
    "The first method is the easiest to use, and is most useful when we don't know the exact size of the item to be iterated over"
   ]
  },
  {
   "cell_type": "code",
   "execution_count": 2,
   "metadata": {},
   "outputs": [
    {
     "name": "stdout",
     "output_type": "stream",
     "text": [
      "1\n",
      "2\n",
      "3\n",
      "4\n",
      "5\n",
      "6\n",
      "7\n"
     ]
    }
   ],
   "source": [
    "for i in l:\n",
    "    print(i)"
   ]
  },
  {
   "cell_type": "markdown",
   "metadata": {},
   "source": [
    "The second method is used if we have an item like a list which is easily iterable. We can directly use the size of the list here using the *range* keyword"
   ]
  },
  {
   "cell_type": "code",
   "execution_count": 4,
   "metadata": {},
   "outputs": [
    {
     "name": "stdout",
     "output_type": "stream",
     "text": [
      "1\n",
      "2\n",
      "3\n",
      "4\n",
      "5\n",
      "6\n",
      "7\n"
     ]
    }
   ],
   "source": [
    "for i in range(len(l)):\n",
    "    print(l[i])"
   ]
  },
  {
   "cell_type": "markdown",
   "metadata": {},
   "source": [
    "Keep in mind that *range* can be used with a starting point as well, like so:"
   ]
  },
  {
   "cell_type": "code",
   "execution_count": 5,
   "metadata": {},
   "outputs": [
    {
     "name": "stdout",
     "output_type": "stream",
     "text": [
      "3\n",
      "4\n",
      "5\n",
      "6\n",
      "7\n"
     ]
    }
   ],
   "source": [
    "for i in range(2,len(l)):\n",
    "    print(l[i])"
   ]
  },
  {
   "cell_type": "markdown",
   "metadata": {},
   "source": [
    "This will print only the elements from the third position to the end\n",
    "\n",
    "\n",
    "The third method is used when we need both the index as well as the element of the list or array. Here we use the *enumerate* keyword"
   ]
  },
  {
   "cell_type": "code",
   "execution_count": 7,
   "metadata": {},
   "outputs": [
    {
     "name": "stdout",
     "output_type": "stream",
     "text": [
      "l[0] = 1\n",
      "l[1] = 2\n",
      "l[2] = 3\n",
      "l[3] = 4\n",
      "l[4] = 5\n",
      "l[5] = 6\n",
      "l[6] = 7\n"
     ]
    }
   ],
   "source": [
    "for i,j in enumerate(l):\n",
    "    print(\"l[\"+str(i)+\"]\"+\" = \"+str(j))"
   ]
  },
  {
   "cell_type": "markdown",
   "metadata": {},
   "source": [
    "# While Loops\n",
    "\n",
    "A while loop is a loop which executes some statements as long as a given condition is being met. The difference between a for loop and a while loop is that while you can easily tell how many iterations a for loop will run for, it is more tricky to do that for a while loop.\n",
    "\n",
    "The following code prints out all the elements of the list given above, this time using a for loop."
   ]
  },
  {
   "cell_type": "code",
   "execution_count": 9,
   "metadata": {},
   "outputs": [
    {
     "name": "stdout",
     "output_type": "stream",
     "text": [
      "1\n",
      "2\n",
      "3\n",
      "4\n",
      "5\n",
      "6\n",
      "7\n"
     ]
    }
   ],
   "source": [
    "i = 0\n",
    "while(i<len(l)):\n",
    "    print(l[i])\n",
    "    i = i + 1"
   ]
  },
  {
   "cell_type": "markdown",
   "metadata": {},
   "source": [
    "The thing to remember here is that a while loop often requires a counter like the variable `i` which you have to increment at each iteration of the while loop, otherwise it will continue running for infinity. This is why it is much easier to mistakenly make an infinite loop in while than in for"
   ]
  },
  {
   "cell_type": "markdown",
   "metadata": {},
   "source": [
    "# Lists\n",
    "\n",
    "Lists in python are just containers of elements. They are used when you need a lot of variables, but dont want to give all of them individual variable names. Lists are most similar to arrays, but there are also differences between the two.\n",
    "\n",
    "\n",
    "A list can be made with the following syntax"
   ]
  },
  {
   "cell_type": "code",
   "execution_count": 10,
   "metadata": {},
   "outputs": [],
   "source": [
    "a = [2, 3, 4, 13 , 17]"
   ]
  },
  {
   "cell_type": "markdown",
   "metadata": {},
   "source": [
    "For numeric lists, we can also use a for loop to initialize the list like so:"
   ]
  },
  {
   "cell_type": "code",
   "execution_count": 12,
   "metadata": {},
   "outputs": [
    {
     "data": {
      "text/plain": [
       "[0, 1, 2, 3, 4, 5, 6, 7, 8, 9]"
      ]
     },
     "execution_count": 12,
     "metadata": {},
     "output_type": "execute_result"
    }
   ],
   "source": [
    "a = [i for i in range(10)]\n",
    "a"
   ]
  },
  {
   "cell_type": "markdown",
   "metadata": {},
   "source": [
    "The above code directly uses a for loop within a list to initialize the list. A point to note is that lists don't have a data type like an array does. This means the elements of the list can be of different data types. The following is a valid code in Python:"
   ]
  },
  {
   "cell_type": "code",
   "execution_count": 14,
   "metadata": {},
   "outputs": [
    {
     "name": "stdout",
     "output_type": "stream",
     "text": [
      "['What', 'is', 1000, '-', 7]\n",
      "<class 'str'>\n",
      "<class 'int'>\n"
     ]
    }
   ],
   "source": [
    "a = [\"What\", \"is\", 1000,\"-\",7]\n",
    "print(a)\n",
    "print(type(a[0]))\n",
    "print(type(a[2]))"
   ]
  },
  {
   "cell_type": "markdown",
   "metadata": {},
   "source": [
    "To access elements of the list like we have done above, we use list indices. List indices start from 0, that is the first element of the list is `a[0]`"
   ]
  },
  {
   "cell_type": "markdown",
   "metadata": {},
   "source": [
    "Lists also support an operation called slicing, which allows us to use only a part of the list, instead of the whole list like so:"
   ]
  },
  {
   "cell_type": "code",
   "execution_count": 15,
   "metadata": {},
   "outputs": [
    {
     "name": "stdout",
     "output_type": "stream",
     "text": [
      "['is', 1000]\n"
     ]
    }
   ],
   "source": [
    "print(a[1:3])"
   ]
  },
  {
   "cell_type": "markdown",
   "metadata": {},
   "source": [
    "The above operation prints the second and third elements, that is the element at position `1` and at position `2`. When we use the `a[start:end]` notation on lists, it prints the elements from `a[start]` to `a[end-1]`. We can also use list slicing in the following ways"
   ]
  },
  {
   "cell_type": "code",
   "execution_count": 18,
   "metadata": {},
   "outputs": [
    {
     "name": "stdout",
     "output_type": "stream",
     "text": [
      "['What', 'is']\n",
      "- - - - - -\n",
      "[1000, '-', 7]\n"
     ]
    }
   ],
   "source": [
    "print(a[:2])\n",
    "print(\"- - - - - -\")\n",
    "print(a[2:])"
   ]
  },
  {
   "cell_type": "markdown",
   "metadata": {},
   "source": [
    "# Keywords in Python\n",
    "\n",
    "<img src = \"Downloads/Keywords.png\">\n",
    "<img src = \"Downloads/Keywords2.png\">"
   ]
  },
  {
   "cell_type": "markdown",
   "metadata": {},
   "source": [
    "# Data Types in Python\n",
    "\n",
    "<img src = \"Downloads/Data_Types.png\">"
   ]
  },
  {
   "cell_type": "markdown",
   "metadata": {},
   "source": [
    "# Operators in Python\n",
    "\n",
    "<img src = \"Downloads/operators.png\">"
   ]
  },
  {
   "cell_type": "markdown",
   "metadata": {},
   "source": [
    "# Classes in Python\n",
    "\n",
    "Since Python is an object-oriented language, it contains classes, which are basically templates to create objects which would use the functions and variables you have created earlier inside the class. For example in Python you would write a class as follows:"
   ]
  },
  {
   "cell_type": "code",
   "execution_count": 22,
   "metadata": {},
   "outputs": [],
   "source": [
    "class TheWorld:\n",
    "    innerVariable = 9\n",
    "    \n",
    "    def classFunction(self):\n",
    "        print(\"Inside the World\")"
   ]
  },
  {
   "cell_type": "markdown",
   "metadata": {},
   "source": [
    "Note that the `self` word is passed as a parameter to the function so that an object of the class can access that method. `self` is a reference to the class of which the object has been crreated and thus allows the object to use the members of itself. For example in the following way:"
   ]
  },
  {
   "cell_type": "code",
   "execution_count": 23,
   "metadata": {},
   "outputs": [
    {
     "name": "stdout",
     "output_type": "stream",
     "text": [
      "Inside the World\n"
     ]
    }
   ],
   "source": [
    "obj1 = TheWorld()\n",
    "obj1.classFunction()"
   ]
  },
  {
   "cell_type": "markdown",
   "metadata": {},
   "source": [
    "All classes in python contain an `__init__` function, either a default one such as in the example above or explicitly stated. The main aim of the `__init__` function is to act as a constructor for the class and give values to all the variables which are a member of that class. For example:"
   ]
  },
  {
   "cell_type": "code",
   "execution_count": 30,
   "metadata": {},
   "outputs": [],
   "source": [
    "class Snowfield:\n",
    "    def __init__(self, f):\n",
    "        self.name = f\n",
    "        self.age = 10\n",
    "        \n",
    "    def printClass(self):\n",
    "        print(\"Name is \"+self.name)\n",
    "        print(\"Age is \"+str(self.age))"
   ]
  },
  {
   "cell_type": "code",
   "execution_count": 31,
   "metadata": {},
   "outputs": [
    {
     "name": "stdout",
     "output_type": "stream",
     "text": [
      "Name is Joseph\n",
      "Age is 10\n"
     ]
    }
   ],
   "source": [
    "obj2 = Snowfield(\"Joseph\")\n",
    "obj2.printClass()"
   ]
  },
  {
   "cell_type": "markdown",
   "metadata": {},
   "source": [
    "# Dictionaries\n",
    "\n",
    "Dictionaries are another type of data structure which can be used in Python to store multiple values. In case of dictionaries the multiple values are stored as key-value pairs as follows:"
   ]
  },
  {
   "cell_type": "code",
   "execution_count": 32,
   "metadata": {},
   "outputs": [
    {
     "data": {
      "text/plain": [
       "'Crimson'"
      ]
     },
     "execution_count": 32,
     "metadata": {},
     "output_type": "execute_result"
    }
   ],
   "source": [
    "titles = {\"King\":\"Crimson\",\"John\":\"Smith\",\"Frog\":\"Tiger\"}\n",
    "titles[\"King\"]"
   ]
  },
  {
   "cell_type": "markdown",
   "metadata": {},
   "source": [
    "An advantage of using dictionaries over lists is that you can have the indices as strings instead of only integers. That may be helpful in some cases"
   ]
  },
  {
   "cell_type": "markdown",
   "metadata": {},
   "source": [
    "Iterating over the elements of a dictionary is different from that of a list since `enumerate` won't work on dictionaries. YOu can iterate over them in the following ways:"
   ]
  },
  {
   "cell_type": "code",
   "execution_count": 34,
   "metadata": {},
   "outputs": [
    {
     "name": "stdout",
     "output_type": "stream",
     "text": [
      "titles[King] = Crimson\n",
      "titles[John] = Smith\n",
      "titles[Frog] = Tiger\n"
     ]
    }
   ],
   "source": [
    "for i in titles:\n",
    "    print(\"titles[\"+i+\"] = \"+titles[i])"
   ]
  },
  {
   "cell_type": "code",
   "execution_count": 36,
   "metadata": {},
   "outputs": [
    {
     "name": "stdout",
     "output_type": "stream",
     "text": [
      "titles[King] = Crimson\n",
      "titles[John] = Smith\n",
      "titles[Frog] = Tiger\n"
     ]
    }
   ],
   "source": [
    "for i,j in titles.items():\n",
    "    print(\"titles[\"+i+\"] = \"+j)"
   ]
  },
  {
   "cell_type": "markdown",
   "metadata": {},
   "source": [
    "We can also delete items from the dictionary if we want using the keywords `pop` or `del` in the following ways:"
   ]
  },
  {
   "cell_type": "code",
   "execution_count": 37,
   "metadata": {},
   "outputs": [
    {
     "data": {
      "text/plain": [
       "{'King': 'Crimson', 'John': 'Smith'}"
      ]
     },
     "execution_count": 37,
     "metadata": {},
     "output_type": "execute_result"
    }
   ],
   "source": [
    "del titles[\"Frog\"]\n",
    "titles"
   ]
  },
  {
   "cell_type": "code",
   "execution_count": 38,
   "metadata": {},
   "outputs": [
    {
     "data": {
      "text/plain": [
       "{'King': 'Crimson'}"
      ]
     },
     "execution_count": 38,
     "metadata": {},
     "output_type": "execute_result"
    }
   ],
   "source": [
    "titles.pop(\"John\")\n",
    "titles"
   ]
  },
  {
   "cell_type": "code",
   "execution_count": null,
   "metadata": {},
   "outputs": [],
   "source": []
  }
 ],
 "metadata": {
  "kernelspec": {
   "display_name": "Python 3",
   "language": "python",
   "name": "python3"
  },
  "language_info": {
   "codemirror_mode": {
    "name": "ipython",
    "version": 3
   },
   "file_extension": ".py",
   "mimetype": "text/x-python",
   "name": "python",
   "nbconvert_exporter": "python",
   "pygments_lexer": "ipython3",
   "version": "3.6.5"
  }
 },
 "nbformat": 4,
 "nbformat_minor": 2
}
