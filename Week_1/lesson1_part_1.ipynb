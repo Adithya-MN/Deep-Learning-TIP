{
 "cells": [
  {
   "cell_type": "markdown",
   "metadata": {},
   "source": [
    "## Lesson 1: Introduction to Python Programming"
   ]
  },
  {
   "cell_type": "markdown",
   "metadata": {},
   "source": [
    "**Computer Programming and Programming Languages**\n",
    "\n",
    "One of the reasons why computers are useful is that they can store and run *programs*, a set of instructions that tells a computer what to do. In fact, you're running a computer program, called a Jupyter Notebook, right now! It's a program that lets you write your own programs. How cool is that?\n",
    "\n",
    "How can you tell a computer what to do? It doesn't understand Hindi, English, or any of the languages that we speak. This is where programming languages come in. They are the medium through which the computer understands what you want it to do. Think of them as the step between what you want to do and how you're going to tell the computer to do it. You may have heard of languages like Java and C++. Python is just like these. They may look different, but you can write programs to do the same things in different languages, just like we have different words in different spoken languages, for the same things.\n"
   ]
  },
  {
   "cell_type": "markdown",
   "metadata": {},
   "source": [
    "**Data Types and Variables in Python**"
   ]
  },
  {
   "cell_type": "markdown",
   "metadata": {},
   "source": [
    "Python can handle several different types of data. The most important ones that we'll be talking about are *integers*, *doubles*, *booleans* and *strings*.\n",
    "\n",
    "**integers** are whole numbers (without decimals) like 0, 1, 2 ...\n",
    "\n",
    "**doubles** are decimal numbers like 1.234, 56.8, 9.5. In Python, they are termed *float*.\n",
    "\n",
    "**booleans** are special values of only two types: either *True* or *False*. Examples of booleans are 0 = False, *nil* = False, 1 = True. In general, besides 0, all numbers are 'true' values. \n",
    "\n",
    "**strings** are anything placed between quotation marks like these: \" \". E.g \"hello\", \"data\"."
   ]
  },
  {
   "cell_type": "code",
   "execution_count": null,
   "metadata": {},
   "outputs": [],
   "source": [
    "type(212412)"
   ]
  },
  {
   "cell_type": "code",
   "execution_count": null,
   "metadata": {},
   "outputs": [],
   "source": [
    "type(9.9999)"
   ]
  },
  {
   "cell_type": "code",
   "execution_count": null,
   "metadata": {},
   "outputs": [],
   "source": [
    "type(True)"
   ]
  },
  {
   "cell_type": "code",
   "execution_count": null,
   "metadata": {},
   "outputs": [],
   "source": [
    "type(\"data science\")"
   ]
  },
  {
   "cell_type": "code",
   "execution_count": null,
   "metadata": {},
   "outputs": [],
   "source": [
    "print(\"Hello World!\"\n",
    "     )"
   ]
  },
  {
   "cell_type": "markdown",
   "metadata": {},
   "source": [
    "# Variables"
   ]
  },
  {
   "cell_type": "code",
   "execution_count": null,
   "metadata": {},
   "outputs": [],
   "source": [
    "pi = 3.142\n",
    "pi"
   ]
  },
  {
   "cell_type": "markdown",
   "metadata": {},
   "source": [
    "Try setting the variable \"name\" to be equal to your name. Remember to put your name in quotes; that's how Python will recognize it!"
   ]
  },
  {
   "cell_type": "code",
   "execution_count": null,
   "metadata": {
    "collapsed": true
   },
   "outputs": [],
   "source": [
    "name = #your name here"
   ]
  },
  {
   "cell_type": "markdown",
   "metadata": {},
   "source": [
    "Run this code."
   ]
  },
  {
   "cell_type": "code",
   "execution_count": null,
   "metadata": {},
   "outputs": [],
   "source": [
    "# Concatenation\n",
    "print(\"Hello\" + name + \"!\")"
   ]
  },
  {
   "cell_type": "code",
   "execution_count": null,
   "metadata": {},
   "outputs": [],
   "source": [
    "print(127834 + 7345) # Addition\n",
    "print(8237645 - 10634) #Subtraction\n",
    "print(1234.5678 * 5678.9101112) #Multiplication\n",
    "print(341345.234028 / 7345.332) #Division"
   ]
  },
  {
   "cell_type": "code",
   "execution_count": null,
   "metadata": {},
   "outputs": [],
   "source": [
    "pi = 3.142\n",
    "pi * 5 * 5\n"
   ]
  },
  {
   "cell_type": "code",
   "execution_count": null,
   "metadata": {
    "collapsed": true
   },
   "outputs": [],
   "source": [
    "data_example1 = \"Data Science\"\n",
    "example1_type = type(data_example1)\n",
    "type_guess1 = \"______\"\n",
    "\n",
    "print(\"Your answer: \" + type_guess1)\n",
    "\n",
    "print(\"Correct answer:\")\n",
    "example1_type"
   ]
  },
  {
   "cell_type": "markdown",
   "metadata": {
    "collapsed": true
   },
   "source": [
    "# Boolean"
   ]
  },
  {
   "cell_type": "code",
   "execution_count": null,
   "metadata": {
    "scrolled": true
   },
   "outputs": [],
   "source": [
    "4 == 4 #we use two equal signs to check if two things are equal; remember one equal sign is used for setting variables!"
   ]
  },
  {
   "cell_type": "code",
   "execution_count": null,
   "metadata": {},
   "outputs": [],
   "source": [
    "type(4 == 4)"
   ]
  },
  {
   "cell_type": "code",
   "execution_count": null,
   "metadata": {},
   "outputs": [],
   "source": [
    "4 > 5"
   ]
  },
  {
   "cell_type": "code",
   "execution_count": null,
   "metadata": {},
   "outputs": [],
   "source": [
    "type(4 > 5)"
   ]
  },
  {
   "cell_type": "code",
   "execution_count": null,
   "metadata": {},
   "outputs": [],
   "source": [
    "5 + 1 == 6"
   ]
  },
  {
   "cell_type": "markdown",
   "metadata": {},
   "source": [
    "# IF Statement"
   ]
  },
  {
   "cell_type": "code",
   "execution_count": null,
   "metadata": {},
   "outputs": [],
   "source": [
    "if 4 == 4:\n",
    "    print(\"4 is equal to four!\")"
   ]
  },
  {
   "cell_type": "code",
   "execution_count": null,
   "metadata": {},
   "outputs": [],
   "source": [
    "example_bool = 5 > 4\n",
    "if example_bool:\n",
    "    print(\"5 is greater than 4\")"
   ]
  },
  {
   "cell_type": "code",
   "execution_count": null,
   "metadata": {},
   "outputs": [],
   "source": [
    "example_bool = 4 > 5\n",
    "if example_bool == False:\n",
    "    print(\"4 is greater than 5\")"
   ]
  },
  {
   "cell_type": "code",
   "execution_count": null,
   "metadata": {},
   "outputs": [],
   "source": [
    "score = 76\n",
    "# Evaluates one by one.If a condition is satified corresponding code block runs and rest is skiped.\n",
    "if score >= 90:\n",
    "    print(\"A\")\n",
    "elif 80 <= score < 90:\n",
    "    print(\"B\")\n",
    "elif 70 <= score < 80:\n",
    "    print(\"C\")\n",
    "elif 60 <= score < 70:\n",
    "    print(\"D\")\n",
    "else:\n",
    "    print(\"F\")"
   ]
  },
  {
   "cell_type": "markdown",
   "metadata": {},
   "source": [
    "In this week's worksheet, we learned a bit more about standard deviation and discovered a couple ways to compare individual points in our dataset to one another. Now, let's discover how we can use Python to process data. Along the way, we'll apply what we learned on the worksheet with these new Python tools.\n",
    "\n",
    "### Functions\n",
    "You may be familiar with what functions are from your math class, where you learnt that a function takes in input value(s) and reports an output value. Functions in programming are the same! They are given an input, or many inputs, do something (or multiple things) to these inputs, and eventually yield an output, or result. The function contains instructions used to create the output from its input.\n",
    "\n",
    "\n",
    "It’s like a cow that eats grass (the input) which its body turns into milk which a dairy farmer then milks (the output).\n",
    "\n",
    "\n",
    "_Why would we need functions?_\n",
    "\n",
    "\n",
    "Computers are great at doing tasks over and over again because we define functions for them to call. They\n",
    "allow for generalization of code, so that we don't have to repeat ourselves over and over again. In order to define a function in Python:\n",
    "\n",
    "\n",
    "- you must have a function header that specifies the name of the function\n",
    "any arguments (a.k.a. input variables, parameters) of the function in parentheses following the function header\n",
    "- the line must begin with the keyword def\n",
    "- the line should end with a colon :\n",
    "- just like with if statements, we need to indent whatever we want to put inside the function.\n",
    "- end with a return or print statement (these will be discussed in more detail later)\n",
    "\n",
    "\n",
    "Suppose you're working for a textile company and want to show them how much cloth they need to cut for a square rug of fixed dimensions. Rather than calculating the perimeter of the square each time, won't it be nicer if you just used one line of code? All you need to do is change one number. Try passing different numbers into the perimeter_of_squares function and see what happens."
   ]
  },
  {
   "cell_type": "code",
   "execution_count": null,
   "metadata": {},
   "outputs": [],
   "source": [
    "def perimeter_of_square(length): # perimeter_of_square is the name of the function\n",
    "    return length * 4    # return tells Python that it needs to output what follows, and exit the function\n",
    "\n",
    "perimeter_of_square(13)    # Replace 13 with a different number and see what happens!"
   ]
  },
  {
   "cell_type": "code",
   "execution_count": null,
   "metadata": {},
   "outputs": [],
   "source": [
    "# return v/s print\n",
    "def add_2_with_print(num): \n",
    "    print(\"Hello!\")\n",
    "    return num + 2\n",
    "x = add_2_with_print(3)\n",
    "x"
   ]
  },
  {
   "cell_type": "markdown",
   "metadata": {},
   "source": [
    "**Let's write a function that adds two numbers together if they are both less than 20. If this is not the case, we multiply them with each other**"
   ]
  },
  {
   "cell_type": "code",
   "execution_count": null,
   "metadata": {},
   "outputs": [],
   "source": [
    "def add_or_multiply(a, b):\n",
    "    if (a < 20) and (b < 20):\n",
    "        return _________\n",
    "    else:\n",
    "        return _________"
   ]
  },
  {
   "cell_type": "code",
   "execution_count": null,
   "metadata": {},
   "outputs": [],
   "source": [
    "# Floor Division\n",
    "5 // 2       # 5/2 = 2.5, so 5//2 = 2"
   ]
  },
  {
   "cell_type": "code",
   "execution_count": null,
   "metadata": {},
   "outputs": [],
   "source": [
    "# Modulo\n",
    "12 % 4"
   ]
  },
  {
   "cell_type": "markdown",
   "metadata": {},
   "source": [
    "# FOR LOOPS\n"
   ]
  },
  {
   "cell_type": "code",
   "execution_count": null,
   "metadata": {},
   "outputs": [],
   "source": [
    "for i in range (1, 6): # \"range\" gives a range of numbers from 1 to 6, excluding 6\n",
    "    print(i)"
   ]
  },
  {
   "cell_type": "code",
   "execution_count": null,
   "metadata": {},
   "outputs": [],
   "source": [
    "def fizzbuzz(number):\n",
    "    pass"
   ]
  }
 ],
 "metadata": {
  "anaconda-cloud": {},
  "kernelspec": {
   "display_name": "Python 3",
   "language": "python",
   "name": "python3"
  },
  "language_info": {
   "codemirror_mode": {
    "name": "ipython",
    "version": 3
   },
   "file_extension": ".py",
   "mimetype": "text/x-python",
   "name": "python",
   "nbconvert_exporter": "python",
   "pygments_lexer": "ipython3",
   "version": "3.6.5"
  }
 },
 "nbformat": 4,
 "nbformat_minor": 2
}
