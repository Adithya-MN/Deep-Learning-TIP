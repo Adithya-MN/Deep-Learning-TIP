{
 "cells": [
  {
   "cell_type": "markdown",
   "metadata": {},
   "source": [
    "# Numpy\n",
    "\n",
    "Numpy is the library used in Python for high performance multidimensional array objects, and it provides a lot of tools and functions for manipulating these objects. \n",
    "\n",
    "For using numpy we must first import this package like so"
   ]
  },
  {
   "cell_type": "code",
   "execution_count": 2,
   "metadata": {},
   "outputs": [],
   "source": [
    "import numpy as np"
   ]
  },
  {
   "cell_type": "markdown",
   "metadata": {},
   "source": [
    "Here we use `as np` so that we don't have to write `numpy` everytime we use any function of numpy and we can just use `np` in it's place. For example we can use the following code to initialize a numpy array"
   ]
  },
  {
   "cell_type": "code",
   "execution_count": 3,
   "metadata": {},
   "outputs": [
    {
     "name": "stdout",
     "output_type": "stream",
     "text": [
      "<class 'numpy.ndarray'>\n",
      "(3,)\n",
      "4\n",
      "[2 3 5]\n"
     ]
    }
   ],
   "source": [
    "a = np.array([2,3,4])\n",
    "print(type(a))\n",
    "print(a.shape)\n",
    "print(a[2])\n",
    "a[2] = 5;\n",
    "print(a)"
   ]
  },
  {
   "cell_type": "markdown",
   "metadata": {},
   "source": [
    "As we can see the datatype of a numpy array is `np.ndarray`. We can directly print the array in numpy without having to iterate over its elements. Also to access any single element of the array we use `[]`.\n",
    "\n",
    "We can also initialize multi-dimensional arrays like so"
   ]
  },
  {
   "cell_type": "code",
   "execution_count": 4,
   "metadata": {},
   "outputs": [
    {
     "name": "stdout",
     "output_type": "stream",
     "text": [
      "(2, 3)\n",
      "<class 'numpy.ndarray'>\n",
      "[[1 2 3]\n",
      " [4 5 6]]\n"
     ]
    }
   ],
   "source": [
    "b = np.array([[1,2,3],[4,5,6]])\n",
    "print(b.shape)\n",
    "print(type(b))\n",
    "print(b)"
   ]
  },
  {
   "cell_type": "markdown",
   "metadata": {},
   "source": [
    "`Shape` is the attribute of a numpy array which tells us the dimensions of the array. Here `b` is a 2x3 array .Note that type of B is still `np.ndarray`."
   ]
  },
  {
   "cell_type": "markdown",
   "metadata": {},
   "source": [
    "We can also create a numpy array of given dimensions filled with ones like so"
   ]
  },
  {
   "cell_type": "code",
   "execution_count": 5,
   "metadata": {},
   "outputs": [
    {
     "data": {
      "text/plain": [
       "array([[1., 1., 1.],\n",
       "       [1., 1., 1.]])"
      ]
     },
     "execution_count": 5,
     "metadata": {},
     "output_type": "execute_result"
    }
   ],
   "source": [
    "c = np.ones((2,3))\n",
    "c"
   ]
  },
  {
   "cell_type": "markdown",
   "metadata": {},
   "source": [
    "To fill it with some other constant value we do this"
   ]
  },
  {
   "cell_type": "code",
   "execution_count": 6,
   "metadata": {},
   "outputs": [
    {
     "data": {
      "text/plain": [
       "array([[10, 10, 10, 10],\n",
       "       [10, 10, 10, 10],\n",
       "       [10, 10, 10, 10]])"
      ]
     },
     "execution_count": 6,
     "metadata": {},
     "output_type": "execute_result"
    }
   ],
   "source": [
    "c = np.full((3,4),10)\n",
    "c"
   ]
  },
  {
   "cell_type": "markdown",
   "metadata": {},
   "source": [
    "We can also fill the array with random elements between 0 and 1 like so\n"
   ]
  },
  {
   "cell_type": "code",
   "execution_count": 7,
   "metadata": {},
   "outputs": [
    {
     "data": {
      "text/plain": [
       "array([[0.00357354, 0.15675229, 0.46593929],\n",
       "       [0.55219491, 0.41845687, 0.25433196]])"
      ]
     },
     "execution_count": 7,
     "metadata": {},
     "output_type": "execute_result"
    }
   ],
   "source": [
    "c = np.random.random((2,3))\n",
    "c"
   ]
  },
  {
   "cell_type": "markdown",
   "metadata": {},
   "source": [
    "Another way we can make a np array is using `arange` which fills the array with numbers withing a certain range. For example"
   ]
  },
  {
   "cell_type": "code",
   "execution_count": 8,
   "metadata": {},
   "outputs": [
    {
     "name": "stdout",
     "output_type": "stream",
     "text": [
      "[0 1 2 3 4]\n",
      "[3 4 5 6]\n",
      "[3 5 7 9]\n"
     ]
    }
   ],
   "source": [
    "a = np.arange(5)\n",
    "print(a)\n",
    "a = np.arange(3,7)\n",
    "print(a)\n",
    "a = np.arange(3,10,2)\n",
    "print(a)"
   ]
  },
  {
   "cell_type": "markdown",
   "metadata": {},
   "source": [
    "Like lists, numpy arrays can also be sliced like so"
   ]
  },
  {
   "cell_type": "code",
   "execution_count": 9,
   "metadata": {},
   "outputs": [
    {
     "data": {
      "text/plain": [
       "array([[0.15675229, 0.46593929]])"
      ]
     },
     "execution_count": 9,
     "metadata": {},
     "output_type": "execute_result"
    }
   ],
   "source": [
    "d = c[:1, 1:3]\n",
    "d"
   ]
  },
  {
   "cell_type": "markdown",
   "metadata": {},
   "source": [
    "However if we chage the elements of the sliced array, the original array is also affected"
   ]
  },
  {
   "cell_type": "code",
   "execution_count": 10,
   "metadata": {},
   "outputs": [
    {
     "data": {
      "text/plain": [
       "array([[3.57353614e-03, 5.00000000e+00, 4.65939291e-01],\n",
       "       [5.52194912e-01, 4.18456874e-01, 2.54331955e-01]])"
      ]
     },
     "execution_count": 10,
     "metadata": {},
     "output_type": "execute_result"
    }
   ],
   "source": [
    "d[0][0] = 5\n",
    "c"
   ]
  },
  {
   "cell_type": "markdown",
   "metadata": {},
   "source": [
    "We can use array slicing to view only certain rows or only certain columns like so"
   ]
  },
  {
   "cell_type": "code",
   "execution_count": 11,
   "metadata": {},
   "outputs": [
    {
     "name": "stdout",
     "output_type": "stream",
     "text": [
      "[0.55219491 0.41845687 0.25433196]\n",
      "[5.         0.41845687]\n"
     ]
    }
   ],
   "source": [
    "print(c[1,:]) #Print only second row\n",
    "print(c[:,1]) #Print only second column"
   ]
  },
  {
   "cell_type": "markdown",
   "metadata": {},
   "source": [
    "We can also index into 2d arrays using `,` rather than using `[]` like so"
   ]
  },
  {
   "cell_type": "code",
   "execution_count": 24,
   "metadata": {},
   "outputs": [
    {
     "name": "stdout",
     "output_type": "stream",
     "text": [
      "1\n"
     ]
    }
   ],
   "source": [
    "a = np.array([[1,2],[2,3]])\n",
    "print(a[0,0])"
   ]
  },
  {
   "cell_type": "markdown",
   "metadata": {},
   "source": [
    "Numpy arrays have a special property that the index of numpy arrays may be numpy arrays themselves. For example in the following code"
   ]
  },
  {
   "cell_type": "code",
   "execution_count": 23,
   "metadata": {},
   "outputs": [
    {
     "name": "stdout",
     "output_type": "stream",
     "text": [
      "[[ 3  4  5]\n",
      " [ 5  6  7]\n",
      " [ 7  8  9]\n",
      " [ 8  9 10]]\n",
      "- - - - - -\n",
      "[4 7 7 7]\n"
     ]
    }
   ],
   "source": [
    "a = np.array([[3,4,5],[5,6,7],[7,8,9],[8,9,10]])\n",
    "print(a)\n",
    "print(\"- - - - - -\")\n",
    "b = [0,1,2,1]\n",
    "c = [1,2,0,2]\n",
    "print(a[b,c])"
   ]
  },
  {
   "cell_type": "markdown",
   "metadata": {},
   "source": [
    "How this works is that it takes each element of those arrays as a single index, and returns those elements in a numpy array of its own. This is very useful in a lot of areas where we may want to use a number of elements of the array without using loops. The thing to remember here is that the array we obtain is of the shape of the index arrays, not the array being indexed. This is fancy indexing"
   ]
  },
  {
   "cell_type": "markdown",
   "metadata": {},
   "source": [
    "We can also use logical statements as indexes. This is called masked indexing"
   ]
  },
  {
   "cell_type": "code",
   "execution_count": 26,
   "metadata": {},
   "outputs": [
    {
     "data": {
      "text/plain": [
       "array([ 6,  7,  8,  9, 10])"
      ]
     },
     "execution_count": 26,
     "metadata": {},
     "output_type": "execute_result"
    }
   ],
   "source": [
    "d = np.array([1,2,3,4,5,6,7,8,9,10])\n",
    "d[d>5]"
   ]
  },
  {
   "cell_type": "markdown",
   "metadata": {},
   "source": [
    "Using `type` on np arrays returns us `np.ndarray`. To find the datatype of the elements of the array we use `dtype` as follows"
   ]
  },
  {
   "cell_type": "code",
   "execution_count": 28,
   "metadata": {},
   "outputs": [
    {
     "data": {
      "text/plain": [
       "dtype('int32')"
      ]
     },
     "execution_count": 28,
     "metadata": {},
     "output_type": "execute_result"
    }
   ],
   "source": [
    "d.dtype"
   ]
  },
  {
   "cell_type": "markdown",
   "metadata": {},
   "source": [
    "For basic mathematical operations on arrays, both operators as well as fucntions may be used"
   ]
  },
  {
   "cell_type": "code",
   "execution_count": 30,
   "metadata": {},
   "outputs": [
    {
     "name": "stdout",
     "output_type": "stream",
     "text": [
      "Addition\n",
      "[ 6  8 10 12]\n",
      "--------\n",
      "[ 6  8 10 12]\n",
      "Multiplication\n",
      "[ 5 12 21 32]\n",
      "--------\n",
      "[ 5 12 21 32]\n",
      "Element wise Division\n",
      "[0.2        0.33333333 0.42857143 0.5       ]\n",
      "--------\n",
      "[0.2        0.33333333 0.42857143 0.5       ]\n",
      "Subtraction\n",
      "[-4 -4 -4 -4]\n",
      "--------\n",
      "[-4 -4 -4 -4]\n"
     ]
    }
   ],
   "source": [
    "x = np.array([1,2,3,4])\n",
    "y = np.array([5,6,7,8])\n",
    "\n",
    "print(\"Addition\")\n",
    "print(x+y)\n",
    "print(\"--------\")\n",
    "print(np.add(x,y))\n",
    "\n",
    "print(\"Multiplication\")\n",
    "print(x*y)\n",
    "print(\"--------\")\n",
    "print(np.multiply(x,y))\n",
    "\n",
    "print(\"Element wise Division\")\n",
    "print(x/y)\n",
    "print(\"--------\")\n",
    "print(np.divide(x,y))\n",
    "\n",
    "print(\"Subtraction\")\n",
    "print(x - y)\n",
    "print(\"--------\")\n",
    "print(np.subtract(x,y))\n",
    "\n",
    "\n",
    "\n"
   ]
  },
  {
   "cell_type": "markdown",
   "metadata": {},
   "source": [
    "The thing to remember here is that all these are element wise operations, especially in the case for multiplication and division. The other element wise operation availabe is square root"
   ]
  },
  {
   "cell_type": "code",
   "execution_count": 31,
   "metadata": {},
   "outputs": [
    {
     "name": "stdout",
     "output_type": "stream",
     "text": [
      "[1.         1.41421356 1.73205081 2.        ]\n"
     ]
    }
   ],
   "source": [
    "print(np.sqrt(x))"
   ]
  },
  {
   "cell_type": "markdown",
   "metadata": {},
   "source": [
    "Like mentioned above, `*` is the operator for element wise multiplication of matrices. For dot product we do it in the following two ways"
   ]
  },
  {
   "cell_type": "code",
   "execution_count": 32,
   "metadata": {},
   "outputs": [
    {
     "name": "stdout",
     "output_type": "stream",
     "text": [
      "70\n",
      "70\n"
     ]
    }
   ],
   "source": [
    "print(x.dot(y))\n",
    "\n",
    "print(np.dot(x,y))"
   ]
  },
  {
   "cell_type": "markdown",
   "metadata": {},
   "source": [
    "Numpy also has built in functions for summing over the elemnt of the array, like so"
   ]
  },
  {
   "cell_type": "code",
   "execution_count": 35,
   "metadata": {},
   "outputs": [
    {
     "name": "stdout",
     "output_type": "stream",
     "text": [
      "81\n",
      " - - - - -\n",
      "[23 27 31]\n",
      "- - - - - -\n",
      "[12 18 24 27]\n"
     ]
    }
   ],
   "source": [
    "a = np.array([[3,4,5],[5,6,7],[7,8,9],[8,9,10]])\n",
    "print(np.sum(a)) #Prints sum of all elements of a\n",
    "print(\" - - - - -\")\n",
    "print(np.sum(a, axis = 0)) #Prints sum of each column of a\n",
    "print(\"- - - - - -\")\n",
    "print(np.sum(a, axis = 1)) #Prints sum of each row of a"
   ]
  },
  {
   "cell_type": "markdown",
   "metadata": {},
   "source": [
    "We can also easily transpose an array in numpy like so"
   ]
  },
  {
   "cell_type": "code",
   "execution_count": 37,
   "metadata": {},
   "outputs": [
    {
     "name": "stdout",
     "output_type": "stream",
     "text": [
      "[[ 3  4  5]\n",
      " [ 5  6  7]\n",
      " [ 7  8  9]\n",
      " [ 8  9 10]]\n",
      "- - - - -\n",
      "[[ 3  5  7  8]\n",
      " [ 4  6  8  9]\n",
      " [ 5  7  9 10]]\n"
     ]
    }
   ],
   "source": [
    "print(a)\n",
    "print(\"- - - - -\")\n",
    "print(a.T)"
   ]
  },
  {
   "cell_type": "markdown",
   "metadata": {},
   "source": [
    "This is a very helpful operation in a number of operations in matrices, and particularly useful in calculating the losses and weights in machine learning"
   ]
  },
  {
   "cell_type": "markdown",
   "metadata": {},
   "source": [
    "Broadcasting is a very useful operation in numpy which allows us to use a smaller array to manipulate a bigger one. It is used in the following way"
   ]
  },
  {
   "cell_type": "code",
   "execution_count": 38,
   "metadata": {},
   "outputs": [
    {
     "name": "stdout",
     "output_type": "stream",
     "text": [
      "[[ 2  4  6]\n",
      " [ 5  7  9]\n",
      " [ 8 10 12]]\n"
     ]
    }
   ],
   "source": [
    "x = np.array([[1,2,3],[4,5,6],[7,8,9]])\n",
    "y = np.array([1,2,3])\n",
    "print(x+y)"
   ]
  },
  {
   "cell_type": "markdown",
   "metadata": {},
   "source": [
    "Because of numpy broadcasting, even though the shapes of x and y are different, numpy allows the second matrix to be added to all rows of the first one. This allows us to easily use any smaller matrix to manipulate bigger ones without stacking copies or making new matrices."
   ]
  },
  {
   "cell_type": "markdown",
   "metadata": {},
   "source": [
    "We can also use broadcasting to compute the cross product of matrices in the following way"
   ]
  },
  {
   "cell_type": "code",
   "execution_count": 39,
   "metadata": {},
   "outputs": [
    {
     "name": "stdout",
     "output_type": "stream",
     "text": [
      "[[ 2  4]\n",
      " [ 6 12]\n",
      " [10 20]]\n"
     ]
    }
   ],
   "source": [
    "a = np.array([1,3,5])\n",
    "b = np.array([2,4])\n",
    "print(np.reshape(a,(3,1)) * b)"
   ]
  },
  {
   "cell_type": "markdown",
   "metadata": {},
   "source": [
    "Broadcasting is one of the most useful and versatile tools of numpy, and helps make the code much less bulky when we want to do operations on arrays. "
   ]
  },
  {
   "cell_type": "code",
   "execution_count": null,
   "metadata": {},
   "outputs": [],
   "source": []
  }
 ],
 "metadata": {
  "kernelspec": {
   "display_name": "Python 3",
   "language": "python",
   "name": "python3"
  },
  "language_info": {
   "codemirror_mode": {
    "name": "ipython",
    "version": 3
   },
   "file_extension": ".py",
   "mimetype": "text/x-python",
   "name": "python",
   "nbconvert_exporter": "python",
   "pygments_lexer": "ipython3",
   "version": "3.6.5"
  }
 },
 "nbformat": 4,
 "nbformat_minor": 2
}
