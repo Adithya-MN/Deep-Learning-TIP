{
 "cells": [
  {
   "cell_type": "code",
   "execution_count": 1,
   "metadata": {},
   "outputs": [],
   "source": [
    "import numpy as np\n",
    "from matplotlib import pyplot as plt\n",
    "%matplotlib inline"
   ]
  },
  {
   "cell_type": "markdown",
   "metadata": {},
   "source": [
    "# Data Creation"
   ]
  },
  {
   "cell_type": "code",
   "execution_count": 2,
   "metadata": {},
   "outputs": [
    {
     "name": "stdout",
     "output_type": "stream",
     "text": [
      "(500, 2) (500, 2)\n"
     ]
    }
   ],
   "source": [
    "mean_01 = np.array([1, 0.5])\n",
    "cov_01 = np.array([[1, 0.1], [0.1, 1.2]])\n",
    "\n",
    "mean_02 = np.array([4, 5])\n",
    "cov_02 = np.array([[1, 0.1], [0.1, 1.2]])\n",
    "\n",
    "# print mean_01\n",
    "# print cov_01\n",
    "\n",
    "dist_01 = np.random.multivariate_normal(mean_01, cov_01, 500)\n",
    "dist_02 = np.random.multivariate_normal(mean_02, cov_02, 500)\n",
    "print (dist_01.shape, dist_02.shape)"
   ]
  },
  {
   "cell_type": "code",
   "execution_count": 3,
   "metadata": {},
   "outputs": [
    {
     "data": {
      "image/png": "[encoded data removed]",
      "text/plain": [
       "<Figure size 432x288 with 1 Axes>"
      ]
     },
     "metadata": {},
     "output_type": "display_data"
    }
   ],
   "source": [
    "plt.figure(0)\n",
    "plt.xlim(-5, 10)\n",
    "plt.ylim(-5, 10)\n",
    "\n",
    "plt.scatter(dist_01[:, 0], dist_01[:, 1])\n",
    "plt.scatter(dist_02[:, 0], dist_02[:, 1])#, color='red')\n",
    "plt.show()"
   ]
  },
  {
   "cell_type": "code",
   "execution_count": 4,
   "metadata": {},
   "outputs": [
    {
     "name": "stdout",
     "output_type": "stream",
     "text": [
      "(1000, 2)\n",
      "-2.562819360100349 8.285484790065876\n"
     ]
    }
   ],
   "source": [
    "data = np.concatenate((dist_01, dist_02))\n",
    "print (data.shape)\n",
    "\n",
    "print (data.min(), data.max())"
   ]
  },
  {
   "cell_type": "markdown",
   "metadata": {},
   "source": [
    "# K-Means Clustering"
   ]
  },
  {
   "cell_type": "code",
   "execution_count": null,
   "metadata": {},
   "outputs": [],
   "source": [
    "K = 4 #Number of Clusters\n",
    "\n",
    "clusters = {} #Dictionary of Clusters\n",
    "\n",
    "for ix in range(K):\n",
    "    center = {\n",
    "        'coords': np.random.uniform(data.min(), data.max(), (data.shape[1],)), #Initializing coordinates (numpy array of length 2 i.e. x and y coordinates) with random values in the range of min to max\n",
    "        'history': [], #History of coordinates for seeing progress\n",
    "        'points': [], # List of Points in a cluster\n",
    "    }\n",
    "    clusters[ix] = center\n",
    "print (clusters)\n",
    "\n",
    "colors = ['red', 'yellow', 'cyan', 'orange','green','blue','magenta'] #Colour list for graph colours"
   ]
  },
  {
   "cell_type": "code",
   "execution_count": null,
   "metadata": {},
   "outputs": [],
   "source": [
    "def distance(point1, point2): # Eucledian Distance between point1 (numpy array of length 2 having x an y coordinates) and point2\n",
    "    "
   ]
  },
  {
   "cell_type": "code",
   "execution_count": null,
   "metadata": {},
   "outputs": [],
   "source": [
    "#Run this cell multiple times to perform k means clustering iteratively while seeing the progress\n",
    "\n",
    "plt.figure(0)\n",
    "for ix in range(data.shape[0]): #Iterating over the data\n",
    "    d = []\n",
    "    for cx in range(K): #Iterating over clusters\n",
    "        # Compute and append distances\n",
    "        \n",
    "    # Get the min distance cluster\n",
    "    \n",
    "    \n",
    "    # Append point to cluster\n",
    "    \n",
    "for cx in range(K): #Printing number of points in a cluster\n",
    "    print(\"Points in cluster \"+str(cx)+\" are \"+ str(len(clusters[cx]['points'])))\n",
    "\n",
    "# Visualize cluster centers\n",
    "for cx in range(K):\n",
    "    plt.scatter(clusters[cx]['coords'][0], clusters[cx]['coords'][1], color='black')\n",
    "\n",
    "plt.figure(1)\n",
    "# Update cluster centers\n",
    "for cx in range(K):\n",
    "    print(\"Cluster \"+str(cx)+\" : \")\n",
    "    print(\"Before updating : \" + str(clusters[cx]['coords']))\n",
    "    # Update history\n",
    "    \n",
    "    if len(clusters[cx]['points']) is not 0:\n",
    "        # Reinitialize cluster center with mean\n",
    "        \n",
    "        print(\"After updating : \" + str(clusters[cx]['coords']))\n",
    "        pts = np.asarray(clusters[cx]['points'])\n",
    "        plt.scatter(pts[:, 0], pts[:, 1], color=colors[cx])\n",
    "    plt.scatter(clusters[cx]['coords'][0], clusters[cx]['coords'][1], color='black')\n",
    "    # Empty points in cluster\n",
    "    \n",
    "plt.show()"
   ]
  },
  {
   "cell_type": "code",
   "execution_count": null,
   "metadata": {},
   "outputs": [],
   "source": [
    "plt.figure(0) #Plotting History\n",
    "for cx in range(K):\n",
    "    d = []\n",
    "    for pt in range(1, len(clusters[cx]['history'])):\n",
    "        d.append(distance(clusters[cx]['history'][pt], clusters[cx]['history'][pt-1]))\n",
    "    plt.plot(d)\n",
    "plt.show()"
   ]
  }
 ],
 "metadata": {
  "kernelspec": {
   "display_name": "Python 3",
   "language": "python",
   "name": "python3"
  },
  "language_info": {
   "codemirror_mode": {
    "name": "ipython",
    "version": 3
   },
   "file_extension": ".py",
   "mimetype": "text/x-python",
   "name": "python",
   "nbconvert_exporter": "python",
   "pygments_lexer": "ipython3",
   "version": "3.6.5"
  }
 },
 "nbformat": 4,
 "nbformat_minor": 2
}
