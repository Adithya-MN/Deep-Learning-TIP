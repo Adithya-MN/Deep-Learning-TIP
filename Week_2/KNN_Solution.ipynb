{
 "cells": [
  {
   "cell_type": "code",
   "execution_count": 1,
   "metadata": {},
   "outputs": [],
   "source": [
    "import numpy as np\n",
    "from matplotlib import pyplot as plt\n",
    "%matplotlib inline"
   ]
  },
  {
   "cell_type": "markdown",
   "metadata": {},
   "source": [
    "## Data Creation"
   ]
  },
  {
   "cell_type": "code",
   "execution_count": 2,
   "metadata": {},
   "outputs": [
    {
     "name": "stdout",
     "output_type": "stream",
     "text": [
      "(500, 2) (500, 2)\n"
     ]
    }
   ],
   "source": [
    "mean_01 = np.array([1, 0.5])\n",
    "cov_01 = np.array([[1, 0.1], [0.1, 1.2]])\n",
    "\n",
    "mean_02 = np.array([4, 5])\n",
    "cov_02 = np.array([[1, 0.1], [0.1, 1.2]])\n",
    "\n",
    "dist_01 = np.random.multivariate_normal(mean_01, cov_01, 500)\n",
    "dist_02 = np.random.multivariate_normal(mean_02, cov_02, 500)\n",
    "print(dist_01.shape, dist_02.shape)"
   ]
  },
  {
   "cell_type": "markdown",
   "metadata": {},
   "source": [
    "We have created two normal distributions with same covariance but different mean "
   ]
  },
  {
   "cell_type": "markdown",
   "metadata": {},
   "source": [
    "## Plotting the created Data "
   ]
  },
  {
   "cell_type": "markdown",
   "metadata": {},
   "source": [
    "Notice the 2 unique clusters being formed "
   ]
  },
  {
   "cell_type": "code",
   "execution_count": 3,
   "metadata": {},
   "outputs": [
    {
     "data": {
      "image/png": "[encoded data removed]",
      "text/plain": [
       "<Figure size 432x288 with 1 Axes>"
      ]
     },
     "metadata": {},
     "output_type": "display_data"
    }
   ],
   "source": [
    "plt.figure(0)\n",
    "plt.xlim(-5, 10)\n",
    "plt.ylim(-5, 10)\n",
    "\n",
    "plt.scatter(dist_01[:, 0], dist_01[:, 1])\n",
    "plt.scatter(dist_02[:, 0], dist_02[:, 1])#, color='red')\n",
    "plt.show()"
   ]
  },
  {
   "cell_type": "code",
   "execution_count": 4,
   "metadata": {},
   "outputs": [
    {
     "name": "stdout",
     "output_type": "stream",
     "text": [
      "(1000, 3)\n",
      "[2.45648328 2.76525115 0.5       ]\n"
     ]
    }
   ],
   "source": [
    "r = dist_01.shape[0] + dist_02.shape[0]\n",
    "c = dist_01.shape[1] + 1\n",
    "data = np.zeros((r, c))\n",
    "print(data.shape)\n",
    "\n",
    "data[:dist_01.shape[0], :2] = dist_01\n",
    "data[dist_01.shape[0]:, :2] = dist_02\n",
    "data[dist_01.shape[0]:, -1] = 1.0\n",
    "\n",
    "print(data.mean(axis=0))"
   ]
  },
  {
   "cell_type": "code",
   "execution_count": 5,
   "metadata": {},
   "outputs": [
    {
     "name": "stdout",
     "output_type": "stream",
     "text": [
      "[[4.4609042  3.13813365 1.        ]\n",
      " [1.70472226 0.88369925 0.        ]\n",
      " [2.77872192 4.93385893 1.        ]\n",
      " [3.56151447 6.20285133 1.        ]\n",
      " [3.70925322 4.01187848 1.        ]\n",
      " [2.14882119 0.64677207 0.        ]\n",
      " [0.27358695 0.47913802 0.        ]\n",
      " [5.44099646 6.40395517 1.        ]\n",
      " [0.95856962 1.6369603  0.        ]\n",
      " [1.39524376 0.05460838 0.        ]]\n"
     ]
    }
   ],
   "source": [
    "np.random.shuffle(data)\n",
    "print(data[:10])"
   ]
  },
  {
   "cell_type": "code",
   "execution_count": 6,
   "metadata": {},
   "outputs": [],
   "source": [
    "def distance(pt1, pt2):\n",
    "    #TODO\n",
    "    #return ((pt1[0]-pt2[0])**2 + (pt1[1]-pt2[1])**2) #Eucledian Distance between 2 points\n",
    "    return np.sum(np.multiply(np.subtract(pt1,pt2),np.subtract(pt1,pt2)),axis=0)\n",
    "    \n",
    "def knn(X_train, y_train, xt, k=7): #xt is the point to be tested and K is the number of neighbors (default values is kept 7)\n",
    "    #TODO\n",
    "    dist_tup = [] #List of Distance Tuples\n",
    "    for i in range(len(X_train)): #Iterating over Training data\n",
    "        dist = distance(X_train[i],xt)\n",
    "        dist_tup.append((dist,y_train[i])) #Making a Tuple of distance and the label\n",
    "    #print(dist_tup)\n",
    "    sorted_list = sorted(dist_tup, key=lambda x: x[0]) #Ascending order Sorting the list according to distances\n",
    "    final_list = sorted_list[:k] #Taking only the least k distances i.e. only the nearest K neighbors\n",
    "    #print(final_list)\n",
    "    d = {}\n",
    "    #Now we want the label which has the majority of neighbors\n",
    "    for i in final_list: # Iterating over the k neighbors\n",
    "        if int(i[1]) in d.keys(): #Checking if the label is already present\n",
    "            d[int(i[1])] = d[int(i[1])] + 1\n",
    "        else:\n",
    "            d[int(i[1])] =  1\n",
    "    inverse = [(value, key) for key, value in d.items()] #Changing the order of tuples from (count,label) to (label,count)\n",
    "    return max(inverse)[1] #Return label with max count"
   ]
  },
  {
   "cell_type": "code",
   "execution_count": 7,
   "metadata": {},
   "outputs": [
    {
     "name": "stdout",
     "output_type": "stream",
     "text": [
      "0\n"
     ]
    }
   ],
   "source": [
    "test_point = np.array([8, -4])\n",
    "\n",
    "#De-comment the line below and check if it comes out as 0.0  \n",
    "print(knn(data[:, :2], data[:, -1], test_point))"
   ]
  },
  {
   "cell_type": "markdown",
   "metadata": {},
   "source": [
    "## Let us create train and test data now"
   ]
  },
  {
   "cell_type": "code",
   "execution_count": 8,
   "metadata": {},
   "outputs": [
    {
     "name": "stdout",
     "output_type": "stream",
     "text": [
      "(750, 2) (750,)\n",
      "(250, 2) (250,)\n"
     ]
    }
   ],
   "source": [
    "np.random.shuffle(data)\n",
    "split = int(0.75 * data.shape[0]) #75% Training and 25% Testing\n",
    "# print split\n",
    "X_train = data[:split, :2]\n",
    "y_train = data[:split, -1]\n",
    "X_test = data[split:, :2]\n",
    "y_test = data[split:, -1]\n",
    "\n",
    "print(X_train.shape, y_train.shape)\n",
    "print(X_test.shape, y_test.shape)"
   ]
  },
  {
   "cell_type": "code",
   "execution_count": 9,
   "metadata": {},
   "outputs": [
    {
     "name": "stdout",
     "output_type": "stream",
     "text": [
      "98.8\n"
     ]
    }
   ],
   "source": [
    "def get_acc(kx): # kx is number of neighbors\n",
    "    correct = 0\n",
    "    for i in range(len(X_test)):\n",
    "        predicted = knn(X_train, y_train, X_test[i], kx)\n",
    "        if int(round(predicted)) == int(round(y_test[i])):\n",
    "            correct=correct+1\n",
    "    return 100*correct/len(X_test)\n",
    "\n",
    "#De-comment the line below and You should get about 99 percent accuracy\n",
    "print(get_acc(7))"
   ]
  },
  {
   "cell_type": "markdown",
   "metadata": {},
   "source": [
    "Let us try different values of K "
   ]
  },
  {
   "cell_type": "code",
   "execution_count": 10,
   "metadata": {},
   "outputs": [
    {
     "name": "stdout",
     "output_type": "stream",
     "text": [
      "k: 2 | Acc: 98.4\n",
      "k: 3 | Acc: 98.8\n",
      "k: 4 | Acc: 98.4\n",
      "k: 5 | Acc: 99.2\n",
      "k: 6 | Acc: 98.8\n",
      "k: 7 | Acc: 98.8\n",
      "k: 8 | Acc: 99.2\n",
      "k: 9 | Acc: 99.2\n",
      "k: 10 | Acc: 99.2\n",
      "k: 11 | Acc: 99.2\n",
      "k: 12 | Acc: 99.2\n",
      "k: 13 | Acc: 99.2\n",
      "k: 14 | Acc: 99.2\n",
      "k: 15 | Acc: 99.2\n",
      "k: 16 | Acc: 99.2\n",
      "k: 17 | Acc: 99.2\n",
      "k: 18 | Acc: 98.8\n",
      "k: 19 | Acc: 98.8\n"
     ]
    }
   ],
   "source": [
    "for ix in range(2, 20):\n",
    "    print (\"k:\", ix, \"| Acc:\", get_acc(ix))"
   ]
  },
  {
   "cell_type": "markdown",
   "metadata": {},
   "source": [
    "## Now let us try real data : MNIST"
   ]
  },
  {
   "cell_type": "code",
   "execution_count": 11,
   "metadata": {},
   "outputs": [],
   "source": [
    "import pandas as pd\n",
    "import datetime"
   ]
  },
  {
   "cell_type": "markdown",
   "metadata": {},
   "source": [
    "Download train.csv from https://www.kaggle.com/c/digit-recognizer/data"
   ]
  },
  {
   "cell_type": "code",
   "execution_count": 12,
   "metadata": {},
   "outputs": [
    {
     "data": {
      "text/html": [
       "<div>\n",
       "<style scoped>\n",
       "    .dataframe tbody tr th:only-of-type {\n",
       "        vertical-align: middle;\n",
       "    }\n",
       "\n",
       "    .dataframe tbody tr th {\n",
       "        vertical-align: top;\n",
       "    }\n",
       "\n",
       "    .dataframe thead th {\n",
       "        text-align: right;\n",
       "    }\n",
       "</style>\n",
       "<table border=\"1\" class=\"dataframe\">\n",
       "  <thead>\n",
       "    <tr style=\"text-align: right;\">\n",
       "      <th></th>\n",
       "      <th>label</th>\n",
       "      <th>pixel0</th>\n",
       "      <th>pixel1</th>\n",
       "      <th>pixel2</th>\n",
       "      <th>pixel3</th>\n",
       "      <th>pixel4</th>\n",
       "      <th>pixel5</th>\n",
       "      <th>pixel6</th>\n",
       "      <th>pixel7</th>\n",
       "      <th>pixel8</th>\n",
       "      <th>...</th>\n",
       "      <th>pixel774</th>\n",
       "      <th>pixel775</th>\n",
       "      <th>pixel776</th>\n",
       "      <th>pixel777</th>\n",
       "      <th>pixel778</th>\n",
       "      <th>pixel779</th>\n",
       "      <th>pixel780</th>\n",
       "      <th>pixel781</th>\n",
       "      <th>pixel782</th>\n",
       "      <th>pixel783</th>\n",
       "    </tr>\n",
       "  </thead>\n",
       "  <tbody>\n",
       "    <tr>\n",
       "      <th>0</th>\n",
       "      <td>1</td>\n",
       "      <td>0</td>\n",
       "      <td>0</td>\n",
       "      <td>0</td>\n",
       "      <td>0</td>\n",
       "      <td>0</td>\n",
       "      <td>0</td>\n",
       "      <td>0</td>\n",
       "      <td>0</td>\n",
       "      <td>0</td>\n",
       "      <td>...</td>\n",
       "      <td>0</td>\n",
       "      <td>0</td>\n",
       "      <td>0</td>\n",
       "      <td>0</td>\n",
       "      <td>0</td>\n",
       "      <td>0</td>\n",
       "      <td>0</td>\n",
       "      <td>0</td>\n",
       "      <td>0</td>\n",
       "      <td>0</td>\n",
       "    </tr>\n",
       "    <tr>\n",
       "      <th>1</th>\n",
       "      <td>0</td>\n",
       "      <td>0</td>\n",
       "      <td>0</td>\n",
       "      <td>0</td>\n",
       "      <td>0</td>\n",
       "      <td>0</td>\n",
       "      <td>0</td>\n",
       "      <td>0</td>\n",
       "      <td>0</td>\n",
       "      <td>0</td>\n",
       "      <td>...</td>\n",
       "      <td>0</td>\n",
       "      <td>0</td>\n",
       "      <td>0</td>\n",
       "      <td>0</td>\n",
       "      <td>0</td>\n",
       "      <td>0</td>\n",
       "      <td>0</td>\n",
       "      <td>0</td>\n",
       "      <td>0</td>\n",
       "      <td>0</td>\n",
       "    </tr>\n",
       "    <tr>\n",
       "      <th>2</th>\n",
       "      <td>1</td>\n",
       "      <td>0</td>\n",
       "      <td>0</td>\n",
       "      <td>0</td>\n",
       "      <td>0</td>\n",
       "      <td>0</td>\n",
       "      <td>0</td>\n",
       "      <td>0</td>\n",
       "      <td>0</td>\n",
       "      <td>0</td>\n",
       "      <td>...</td>\n",
       "      <td>0</td>\n",
       "      <td>0</td>\n",
       "      <td>0</td>\n",
       "      <td>0</td>\n",
       "      <td>0</td>\n",
       "      <td>0</td>\n",
       "      <td>0</td>\n",
       "      <td>0</td>\n",
       "      <td>0</td>\n",
       "      <td>0</td>\n",
       "    </tr>\n",
       "    <tr>\n",
       "      <th>3</th>\n",
       "      <td>4</td>\n",
       "      <td>0</td>\n",
       "      <td>0</td>\n",
       "      <td>0</td>\n",
       "      <td>0</td>\n",
       "      <td>0</td>\n",
       "      <td>0</td>\n",
       "      <td>0</td>\n",
       "      <td>0</td>\n",
       "      <td>0</td>\n",
       "      <td>...</td>\n",
       "      <td>0</td>\n",
       "      <td>0</td>\n",
       "      <td>0</td>\n",
       "      <td>0</td>\n",
       "      <td>0</td>\n",
       "      <td>0</td>\n",
       "      <td>0</td>\n",
       "      <td>0</td>\n",
       "      <td>0</td>\n",
       "      <td>0</td>\n",
       "    </tr>\n",
       "    <tr>\n",
       "      <th>4</th>\n",
       "      <td>0</td>\n",
       "      <td>0</td>\n",
       "      <td>0</td>\n",
       "      <td>0</td>\n",
       "      <td>0</td>\n",
       "      <td>0</td>\n",
       "      <td>0</td>\n",
       "      <td>0</td>\n",
       "      <td>0</td>\n",
       "      <td>0</td>\n",
       "      <td>...</td>\n",
       "      <td>0</td>\n",
       "      <td>0</td>\n",
       "      <td>0</td>\n",
       "      <td>0</td>\n",
       "      <td>0</td>\n",
       "      <td>0</td>\n",
       "      <td>0</td>\n",
       "      <td>0</td>\n",
       "      <td>0</td>\n",
       "      <td>0</td>\n",
       "    </tr>\n",
       "  </tbody>\n",
       "</table>\n",
       "<p>5 rows × 785 columns</p>\n",
       "</div>"
      ],
      "text/plain": [
       "   label  pixel0  pixel1  pixel2  pixel3  pixel4  pixel5  pixel6  pixel7  \\\n",
       "0      1       0       0       0       0       0       0       0       0   \n",
       "1      0       0       0       0       0       0       0       0       0   \n",
       "2      1       0       0       0       0       0       0       0       0   \n",
       "3      4       0       0       0       0       0       0       0       0   \n",
       "4      0       0       0       0       0       0       0       0       0   \n",
       "\n",
       "   pixel8    ...     pixel774  pixel775  pixel776  pixel777  pixel778  \\\n",
       "0       0    ...            0         0         0         0         0   \n",
       "1       0    ...            0         0         0         0         0   \n",
       "2       0    ...            0         0         0         0         0   \n",
       "3       0    ...            0         0         0         0         0   \n",
       "4       0    ...            0         0         0         0         0   \n",
       "\n",
       "   pixel779  pixel780  pixel781  pixel782  pixel783  \n",
       "0         0         0         0         0         0  \n",
       "1         0         0         0         0         0  \n",
       "2         0         0         0         0         0  \n",
       "3         0         0         0         0         0  \n",
       "4         0         0         0         0         0  \n",
       "\n",
       "[5 rows x 785 columns]"
      ]
     },
     "execution_count": 12,
     "metadata": {},
     "output_type": "execute_result"
    }
   ],
   "source": [
    "df = pd.read_csv('train.csv')\n",
    "df.head()"
   ]
  },
  {
   "cell_type": "code",
   "execution_count": 13,
   "metadata": {},
   "outputs": [
    {
     "name": "stdout",
     "output_type": "stream",
     "text": [
      "(2000, 785)\n"
     ]
    }
   ],
   "source": [
    "data = df.values[:2000]\n",
    "print (data.shape)"
   ]
  },
  {
   "cell_type": "code",
   "execution_count": 14,
   "metadata": {},
   "outputs": [
    {
     "name": "stdout",
     "output_type": "stream",
     "text": [
      "(1600, 784) (1600,)\n",
      "(400, 784) (400,)\n"
     ]
    }
   ],
   "source": [
    "split = int(0.8 * data.shape[0]) #20% Testing Data\n",
    "\n",
    "X_train = data[:split, 1:]\n",
    "X_test = data[split:, 1:]\n",
    "\n",
    "y_train = data[:split, 0]\n",
    "y_test = data[split:, 0]\n",
    "\n",
    "print (X_train.shape, y_train.shape)\n",
    "print (X_test.shape, y_test.shape)"
   ]
  },
  {
   "cell_type": "code",
   "execution_count": 15,
   "metadata": {},
   "outputs": [
    {
     "name": "stdout",
     "output_type": "stream",
     "text": [
      "3\n"
     ]
    },
    {
     "data": {
      "image/png": "[encoded data removed]",
      "text/plain": [
       "<Figure size 432x288 with 1 Axes>"
      ]
     },
     "metadata": {},
     "output_type": "display_data"
    }
   ],
   "source": [
    "plt.figure(0)\n",
    "plt.imshow(X_train[90].reshape((28, 28)), cmap='gray', interpolation='none')\n",
    "print (y_train[90])\n",
    "plt.show()"
   ]
  },
  {
   "cell_type": "markdown",
   "metadata": {},
   "source": [
    "Now code get_acc and try different values of k "
   ]
  },
  {
   "cell_type": "code",
   "execution_count": 16,
   "metadata": {},
   "outputs": [],
   "source": [
    "def get_acc(kx):\n",
    "    correct = 0\n",
    "    for i in range(len(X_test)):\n",
    "        predicted = knn(X_train, y_train, X_test[i], kx)\n",
    "        if int(round(predicted)) == int(round(y_test[i])):\n",
    "            correct=correct+1\n",
    "    return 100*correct/len(X_test)\n",
    "\n",
    "#print (get_acc(kx=))"
   ]
  },
  {
   "cell_type": "code",
   "execution_count": 17,
   "metadata": {},
   "outputs": [
    {
     "name": "stdout",
     "output_type": "stream",
     "text": [
      "88.25\n"
     ]
    }
   ],
   "source": [
    "print(get_acc(kx=4))"
   ]
  },
  {
   "cell_type": "code",
   "execution_count": null,
   "metadata": {},
   "outputs": [],
   "source": []
  }
 ],
 "metadata": {
  "kernelspec": {
   "display_name": "Python 3",
   "language": "python",
   "name": "python3"
  },
  "language_info": {
   "codemirror_mode": {
    "name": "ipython",
    "version": 3
   },
   "file_extension": ".py",
   "mimetype": "text/x-python",
   "name": "python",
   "nbconvert_exporter": "python",
   "pygments_lexer": "ipython3",
   "version": "3.6.6"
  }
 },
 "nbformat": 4,
 "nbformat_minor": 2
}
